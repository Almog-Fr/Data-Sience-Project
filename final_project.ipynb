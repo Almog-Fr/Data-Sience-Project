{
 "cells": [
  {
   "cell_type": "markdown",
   "metadata": {},
   "source": [
    "After gathering the data we started with setting the dependencies and the functions that will help us in the project.\n",
    "We defined a function that will give us a cross tabulation of the columns we pick and a function that will remove the outliers with the IQR method. "
   ]
  },
  {
   "cell_type": "code",
   "execution_count": 365,
   "metadata": {},
   "outputs": [],
   "source": [
    "import pandas as pd \n",
    "import numpy as np\n",
    "from matplotlib import pyplot as plt\n",
    "from pyparsing import col\n",
    "from scipy.stats import chi2_contingency\n",
    "from sklearn import metrics\n",
    "from sklearn.model_selection import train_test_split\n",
    "from sklearn.ensemble import RandomForestClassifier\n",
    "from sklearn import tree\n",
    "\n",
    "\n",
    "def cross_tab(df,first_column,second_column):\n",
    "    data = pd.crosstab(df[first_column],df[second_column],normalize='index')\n",
    "    return data\n",
    "\n",
    "def remove_outliers(df,column):\n",
    "    Q1 = np.percentile(df[column],25)\n",
    "    Q3 = np.percentile(df[column],75)\n",
    "    IQR = Q3 - Q1\n",
    "    wanted_col = df[column]\n",
    "    wanted_col[(df[column] < Q1 - (1.5 * IQR)) | (df[column] < Q3 + (1.5 * IQR))] = np.nan\n",
    "    return df"
   ]
  },
  {
   "cell_type": "code",
   "execution_count": 366,
   "metadata": {},
   "outputs": [
    {
     "name": "stderr",
     "output_type": "stream",
     "text": [
      "C:\\Users\\almog\\AppData\\Local\\Temp\\ipykernel_4576\\2930559082.py:21: SettingWithCopyWarning: \n",
      "A value is trying to be set on a copy of a slice from a DataFrame\n",
      "\n",
      "See the caveats in the documentation: https://pandas.pydata.org/pandas-docs/stable/user_guide/indexing.html#returning-a-view-versus-a-copy\n",
      "  wanted_col[(df[column] < Q1 - (1.5 * IQR)) | (df[column] < Q3 + (1.5 * IQR))] = np.nan\n"
     ]
    },
    {
     "data": {
      "text/html": [
       "<div>\n",
       "<style scoped>\n",
       "    .dataframe tbody tr th:only-of-type {\n",
       "        vertical-align: middle;\n",
       "    }\n",
       "\n",
       "    .dataframe tbody tr th {\n",
       "        vertical-align: top;\n",
       "    }\n",
       "\n",
       "    .dataframe thead th {\n",
       "        text-align: right;\n",
       "    }\n",
       "</style>\n",
       "<table border=\"1\" class=\"dataframe\">\n",
       "  <thead>\n",
       "    <tr style=\"text-align: right;\">\n",
       "      <th></th>\n",
       "      <th>Unnamed: 0</th>\n",
       "      <th>names</th>\n",
       "      <th>countries</th>\n",
       "      <th>min_order</th>\n",
       "      <th>delivery_fee</th>\n",
       "      <th>amount_of_rankers</th>\n",
       "      <th>delivery_time_MAX</th>\n",
       "      <th>ranking</th>\n",
       "    </tr>\n",
       "  </thead>\n",
       "  <tbody>\n",
       "    <tr>\n",
       "      <th>0</th>\n",
       "      <td>0</td>\n",
       "      <td>The Darling Pizzeria</td>\n",
       "      <td>Australia</td>\n",
       "      <td>13.167</td>\n",
       "      <td>4.9500</td>\n",
       "      <td>3977.0</td>\n",
       "      <td>40</td>\n",
       "      <td>3.89</td>\n",
       "    </tr>\n",
       "    <tr>\n",
       "      <th>1</th>\n",
       "      <td>1</td>\n",
       "      <td>Metro Pita Kebab</td>\n",
       "      <td>Australia</td>\n",
       "      <td>0.000</td>\n",
       "      <td>2.3034</td>\n",
       "      <td>840.0</td>\n",
       "      <td>40</td>\n",
       "      <td>4.27</td>\n",
       "    </tr>\n",
       "    <tr>\n",
       "      <th>2</th>\n",
       "      <td>2</td>\n",
       "      <td>Metro Thai</td>\n",
       "      <td>Australia</td>\n",
       "      <td>0.000</td>\n",
       "      <td>3.2934</td>\n",
       "      <td>6.0</td>\n",
       "      <td>35</td>\n",
       "      <td>5.22</td>\n",
       "    </tr>\n",
       "    <tr>\n",
       "      <th>3</th>\n",
       "      <td>3</td>\n",
       "      <td>BP - Randwick</td>\n",
       "      <td>Australia</td>\n",
       "      <td>0.000</td>\n",
       "      <td>0.6534</td>\n",
       "      <td>28.0</td>\n",
       "      <td>35</td>\n",
       "      <td>4.06</td>\n",
       "    </tr>\n",
       "    <tr>\n",
       "      <th>4</th>\n",
       "      <td>4</td>\n",
       "      <td>Naanstop On Norton</td>\n",
       "      <td>Australia</td>\n",
       "      <td>0.000</td>\n",
       "      <td>3.2934</td>\n",
       "      <td>5.0</td>\n",
       "      <td>35</td>\n",
       "      <td>5.27</td>\n",
       "    </tr>\n",
       "  </tbody>\n",
       "</table>\n",
       "</div>"
      ],
      "text/plain": [
       "   Unnamed: 0                   names  countries  min_order  delivery_fee  \\\n",
       "0           0   The Darling Pizzeria   Australia     13.167        4.9500   \n",
       "1           1       Metro Pita Kebab   Australia      0.000        2.3034   \n",
       "2           2             Metro Thai   Australia      0.000        3.2934   \n",
       "3           3          BP - Randwick   Australia      0.000        0.6534   \n",
       "4           4     Naanstop On Norton   Australia      0.000        3.2934   \n",
       "\n",
       "   amount_of_rankers  delivery_time_MAX  ranking  \n",
       "0             3977.0                 40     3.89  \n",
       "1              840.0                 40     4.27  \n",
       "2                6.0                 35     5.22  \n",
       "3               28.0                 35     4.06  \n",
       "4                5.0                 35     5.27  "
      ]
     },
     "execution_count": 366,
     "metadata": {},
     "output_type": "execute_result"
    }
   ],
   "source": [
    "df = pd.read_csv('./DataFrame.csv')\n",
    "for column in [\"min_order\",\"delivery_fee\",\"amount_of_rankers\",\"delivery_time_MAX\"]:\n",
    "    try:\n",
    "        df = remove_outliers(df,column)\n",
    "    except:\n",
    "        print(column)\n",
    "df.dropna(inplace=True)\n",
    "df[\"delivery_time_MAX\"] = df[\"delivery_time_MAX\"].astype('int')\n",
    "df.drop_duplicates(keep='first',inplace=True)\n",
    "df.head()"
   ]
  },
  {
   "cell_type": "markdown",
   "metadata": {},
   "source": [
    "We decided to give discrete values to continuous values since we planned on using the decision tree and random forest model. The continuous values were divided into bins according to the data we got."
   ]
  },
  {
   "cell_type": "markdown",
   "metadata": {},
   "source": [
    "After that, we started to clean the data and removed the duplicates and the nan values from the dataframe."
   ]
  },
  {
   "cell_type": "markdown",
   "metadata": {},
   "source": [
    "In order to keep the dataframe clean and numerical we also decided to map the countries to numbers according the dictionary we have down below."
   ]
  },
  {
   "cell_type": "code",
   "execution_count": 367,
   "metadata": {},
   "outputs": [],
   "source": [
    "replace_map = {'Australia':1,'England':2,'Ireland':3,'New Zeland':4}\n",
    "bins = [-1,4,8,12,16,20,24,28]\n",
    "bins_large_numbers = [-1,500,1000,1500,2000,2500,3000,5000]\n",
    "bins_times = [20,30,40,50,60,70,80,90]\n",
    "labels = [1,2,3,4,5,6,7]\n",
    "df.replace(replace_map,inplace=True)\n",
    "df['fee_without_food'] = df[\"min_order\"] + df[\"delivery_fee\"]\n",
    "df[\"min_order_binned\"] = pd.cut(df[\"min_order\"],bins,labels=labels)\n",
    "df[\"delivery_fee_binned\"] = pd.cut(df[\"delivery_fee\"],bins,labels=labels)\n",
    "df[\"amount_of_rankers_binned\"] = pd.cut(df[\"amount_of_rankers\"],bins_large_numbers,labels=labels)\n",
    "df[\"delivery_time_MAX_binned\"] = pd.cut(df[\"delivery_time_MAX\"],bins_times,labels=labels)\n",
    "df[\"fee_without_food_binned\"] = pd.cut(df[\"fee_without_food\"],bins,labels=labels)\n",
    "df['is_succesful'] = df['ranking'] > 4\n",
    "\n",
    "df.dropna(inplace=True)\n",
    "df.drop_duplicates(keep='first',inplace=True)\n"
   ]
  },
  {
   "cell_type": "markdown",
   "metadata": {},
   "source": [
    "We also added the \"is_successful\" column to see which of the restaurants is successful and which is not according to the parameters we defined in the research question. In addition, we created the column \"fee without food\" which is the price customers will have to pay regardless of their dish."
   ]
  },
  {
   "cell_type": "markdown",
   "metadata": {},
   "source": [
    "After cleaning the data we wanted to see how our dataframe looks like. for that we used the head function to display the first 5 rows of the DF."
   ]
  },
  {
   "cell_type": "code",
   "execution_count": 368,
   "metadata": {},
   "outputs": [
    {
     "data": {
      "text/html": [
       "<div>\n",
       "<style scoped>\n",
       "    .dataframe tbody tr th:only-of-type {\n",
       "        vertical-align: middle;\n",
       "    }\n",
       "\n",
       "    .dataframe tbody tr th {\n",
       "        vertical-align: top;\n",
       "    }\n",
       "\n",
       "    .dataframe thead th {\n",
       "        text-align: right;\n",
       "    }\n",
       "</style>\n",
       "<table border=\"1\" class=\"dataframe\">\n",
       "  <thead>\n",
       "    <tr style=\"text-align: right;\">\n",
       "      <th></th>\n",
       "      <th>Unnamed: 0</th>\n",
       "      <th>names</th>\n",
       "      <th>countries</th>\n",
       "      <th>min_order</th>\n",
       "      <th>delivery_fee</th>\n",
       "      <th>amount_of_rankers</th>\n",
       "      <th>delivery_time_MAX</th>\n",
       "      <th>ranking</th>\n",
       "      <th>fee_without_food</th>\n",
       "      <th>min_order_binned</th>\n",
       "      <th>delivery_fee_binned</th>\n",
       "      <th>amount_of_rankers_binned</th>\n",
       "      <th>delivery_time_MAX_binned</th>\n",
       "      <th>fee_without_food_binned</th>\n",
       "      <th>is_succesful</th>\n",
       "    </tr>\n",
       "  </thead>\n",
       "  <tbody>\n",
       "    <tr>\n",
       "      <th>0</th>\n",
       "      <td>0</td>\n",
       "      <td>The Darling Pizzeria</td>\n",
       "      <td>1</td>\n",
       "      <td>13.167</td>\n",
       "      <td>4.9500</td>\n",
       "      <td>3977.0</td>\n",
       "      <td>40</td>\n",
       "      <td>3.89</td>\n",
       "      <td>18.1170</td>\n",
       "      <td>4</td>\n",
       "      <td>2</td>\n",
       "      <td>7</td>\n",
       "      <td>2</td>\n",
       "      <td>5</td>\n",
       "      <td>False</td>\n",
       "    </tr>\n",
       "    <tr>\n",
       "      <th>1</th>\n",
       "      <td>1</td>\n",
       "      <td>Metro Pita Kebab</td>\n",
       "      <td>1</td>\n",
       "      <td>0.000</td>\n",
       "      <td>2.3034</td>\n",
       "      <td>840.0</td>\n",
       "      <td>40</td>\n",
       "      <td>4.27</td>\n",
       "      <td>2.3034</td>\n",
       "      <td>1</td>\n",
       "      <td>1</td>\n",
       "      <td>2</td>\n",
       "      <td>2</td>\n",
       "      <td>1</td>\n",
       "      <td>True</td>\n",
       "    </tr>\n",
       "    <tr>\n",
       "      <th>2</th>\n",
       "      <td>2</td>\n",
       "      <td>Metro Thai</td>\n",
       "      <td>1</td>\n",
       "      <td>0.000</td>\n",
       "      <td>3.2934</td>\n",
       "      <td>6.0</td>\n",
       "      <td>35</td>\n",
       "      <td>5.22</td>\n",
       "      <td>3.2934</td>\n",
       "      <td>1</td>\n",
       "      <td>1</td>\n",
       "      <td>1</td>\n",
       "      <td>2</td>\n",
       "      <td>1</td>\n",
       "      <td>True</td>\n",
       "    </tr>\n",
       "    <tr>\n",
       "      <th>3</th>\n",
       "      <td>3</td>\n",
       "      <td>BP - Randwick</td>\n",
       "      <td>1</td>\n",
       "      <td>0.000</td>\n",
       "      <td>0.6534</td>\n",
       "      <td>28.0</td>\n",
       "      <td>35</td>\n",
       "      <td>4.06</td>\n",
       "      <td>0.6534</td>\n",
       "      <td>1</td>\n",
       "      <td>1</td>\n",
       "      <td>1</td>\n",
       "      <td>2</td>\n",
       "      <td>1</td>\n",
       "      <td>True</td>\n",
       "    </tr>\n",
       "    <tr>\n",
       "      <th>4</th>\n",
       "      <td>4</td>\n",
       "      <td>Naanstop On Norton</td>\n",
       "      <td>1</td>\n",
       "      <td>0.000</td>\n",
       "      <td>3.2934</td>\n",
       "      <td>5.0</td>\n",
       "      <td>35</td>\n",
       "      <td>5.27</td>\n",
       "      <td>3.2934</td>\n",
       "      <td>1</td>\n",
       "      <td>1</td>\n",
       "      <td>1</td>\n",
       "      <td>2</td>\n",
       "      <td>1</td>\n",
       "      <td>True</td>\n",
       "    </tr>\n",
       "  </tbody>\n",
       "</table>\n",
       "</div>"
      ],
      "text/plain": [
       "   Unnamed: 0                   names  countries  min_order  delivery_fee  \\\n",
       "0           0   The Darling Pizzeria           1     13.167        4.9500   \n",
       "1           1       Metro Pita Kebab           1      0.000        2.3034   \n",
       "2           2             Metro Thai           1      0.000        3.2934   \n",
       "3           3          BP - Randwick           1      0.000        0.6534   \n",
       "4           4     Naanstop On Norton           1      0.000        3.2934   \n",
       "\n",
       "   amount_of_rankers  delivery_time_MAX  ranking  fee_without_food  \\\n",
       "0             3977.0                 40     3.89           18.1170   \n",
       "1              840.0                 40     4.27            2.3034   \n",
       "2                6.0                 35     5.22            3.2934   \n",
       "3               28.0                 35     4.06            0.6534   \n",
       "4                5.0                 35     5.27            3.2934   \n",
       "\n",
       "  min_order_binned delivery_fee_binned amount_of_rankers_binned  \\\n",
       "0                4                   2                        7   \n",
       "1                1                   1                        2   \n",
       "2                1                   1                        1   \n",
       "3                1                   1                        1   \n",
       "4                1                   1                        1   \n",
       "\n",
       "  delivery_time_MAX_binned fee_without_food_binned  is_succesful  \n",
       "0                        2                       5         False  \n",
       "1                        2                       1          True  \n",
       "2                        2                       1          True  \n",
       "3                        2                       1          True  \n",
       "4                        2                       1          True  "
      ]
     },
     "execution_count": 368,
     "metadata": {},
     "output_type": "execute_result"
    }
   ],
   "source": [
    "df.head()"
   ]
  },
  {
   "cell_type": "markdown",
   "metadata": {},
   "source": [
    "Looks good! Seems like the columns look exactly as we expected."
   ]
  },
  {
   "cell_type": "markdown",
   "metadata": {},
   "source": [
    "After that we tried to find any correlation between some of the columns. we used Pearson method and created a correlation table that will display us the correlation between each column to the others."
   ]
  },
  {
   "cell_type": "code",
   "execution_count": 369,
   "metadata": {},
   "outputs": [
    {
     "data": {
      "text/html": [
       "<div>\n",
       "<style scoped>\n",
       "    .dataframe tbody tr th:only-of-type {\n",
       "        vertical-align: middle;\n",
       "    }\n",
       "\n",
       "    .dataframe tbody tr th {\n",
       "        vertical-align: top;\n",
       "    }\n",
       "\n",
       "    .dataframe thead th {\n",
       "        text-align: right;\n",
       "    }\n",
       "</style>\n",
       "<table border=\"1\" class=\"dataframe\">\n",
       "  <thead>\n",
       "    <tr style=\"text-align: right;\">\n",
       "      <th></th>\n",
       "      <th>Unnamed: 0</th>\n",
       "      <th>countries</th>\n",
       "      <th>min_order</th>\n",
       "      <th>delivery_fee</th>\n",
       "      <th>amount_of_rankers</th>\n",
       "      <th>delivery_time_MAX</th>\n",
       "      <th>ranking</th>\n",
       "      <th>fee_without_food</th>\n",
       "      <th>is_succesful</th>\n",
       "    </tr>\n",
       "  </thead>\n",
       "  <tbody>\n",
       "    <tr>\n",
       "      <th>Unnamed: 0</th>\n",
       "      <td>1.000000</td>\n",
       "      <td>0.830910</td>\n",
       "      <td>0.275745</td>\n",
       "      <td>-0.115682</td>\n",
       "      <td>0.093864</td>\n",
       "      <td>0.544879</td>\n",
       "      <td>-0.015543</td>\n",
       "      <td>0.240955</td>\n",
       "      <td>-0.018938</td>\n",
       "    </tr>\n",
       "    <tr>\n",
       "      <th>countries</th>\n",
       "      <td>0.830910</td>\n",
       "      <td>1.000000</td>\n",
       "      <td>0.371535</td>\n",
       "      <td>-0.088532</td>\n",
       "      <td>0.096101</td>\n",
       "      <td>0.706034</td>\n",
       "      <td>-0.013447</td>\n",
       "      <td>0.344142</td>\n",
       "      <td>-0.021483</td>\n",
       "    </tr>\n",
       "    <tr>\n",
       "      <th>min_order</th>\n",
       "      <td>0.275745</td>\n",
       "      <td>0.371535</td>\n",
       "      <td>1.000000</td>\n",
       "      <td>-0.128775</td>\n",
       "      <td>0.149626</td>\n",
       "      <td>0.458794</td>\n",
       "      <td>0.019807</td>\n",
       "      <td>0.957956</td>\n",
       "      <td>0.022041</td>\n",
       "    </tr>\n",
       "    <tr>\n",
       "      <th>delivery_fee</th>\n",
       "      <td>-0.115682</td>\n",
       "      <td>-0.088532</td>\n",
       "      <td>-0.128775</td>\n",
       "      <td>1.000000</td>\n",
       "      <td>-0.105565</td>\n",
       "      <td>-0.031562</td>\n",
       "      <td>-0.012289</td>\n",
       "      <td>0.161167</td>\n",
       "      <td>-0.019995</td>\n",
       "    </tr>\n",
       "    <tr>\n",
       "      <th>amount_of_rankers</th>\n",
       "      <td>0.093864</td>\n",
       "      <td>0.096101</td>\n",
       "      <td>0.149626</td>\n",
       "      <td>-0.105565</td>\n",
       "      <td>1.000000</td>\n",
       "      <td>0.111598</td>\n",
       "      <td>0.023922</td>\n",
       "      <td>0.118367</td>\n",
       "      <td>0.011974</td>\n",
       "    </tr>\n",
       "    <tr>\n",
       "      <th>delivery_time_MAX</th>\n",
       "      <td>0.544879</td>\n",
       "      <td>0.706034</td>\n",
       "      <td>0.458794</td>\n",
       "      <td>-0.031562</td>\n",
       "      <td>0.111598</td>\n",
       "      <td>1.000000</td>\n",
       "      <td>-0.017694</td>\n",
       "      <td>0.447467</td>\n",
       "      <td>-0.017176</td>\n",
       "    </tr>\n",
       "    <tr>\n",
       "      <th>ranking</th>\n",
       "      <td>-0.015543</td>\n",
       "      <td>-0.013447</td>\n",
       "      <td>0.019807</td>\n",
       "      <td>-0.012289</td>\n",
       "      <td>0.023922</td>\n",
       "      <td>-0.017694</td>\n",
       "      <td>1.000000</td>\n",
       "      <td>0.016157</td>\n",
       "      <td>0.774438</td>\n",
       "    </tr>\n",
       "    <tr>\n",
       "      <th>fee_without_food</th>\n",
       "      <td>0.240955</td>\n",
       "      <td>0.344142</td>\n",
       "      <td>0.957956</td>\n",
       "      <td>0.161167</td>\n",
       "      <td>0.118367</td>\n",
       "      <td>0.447467</td>\n",
       "      <td>0.016157</td>\n",
       "      <td>1.000000</td>\n",
       "      <td>0.016150</td>\n",
       "    </tr>\n",
       "    <tr>\n",
       "      <th>is_succesful</th>\n",
       "      <td>-0.018938</td>\n",
       "      <td>-0.021483</td>\n",
       "      <td>0.022041</td>\n",
       "      <td>-0.019995</td>\n",
       "      <td>0.011974</td>\n",
       "      <td>-0.017176</td>\n",
       "      <td>0.774438</td>\n",
       "      <td>0.016150</td>\n",
       "      <td>1.000000</td>\n",
       "    </tr>\n",
       "  </tbody>\n",
       "</table>\n",
       "</div>"
      ],
      "text/plain": [
       "                   Unnamed: 0  countries  min_order  delivery_fee  \\\n",
       "Unnamed: 0           1.000000   0.830910   0.275745     -0.115682   \n",
       "countries            0.830910   1.000000   0.371535     -0.088532   \n",
       "min_order            0.275745   0.371535   1.000000     -0.128775   \n",
       "delivery_fee        -0.115682  -0.088532  -0.128775      1.000000   \n",
       "amount_of_rankers    0.093864   0.096101   0.149626     -0.105565   \n",
       "delivery_time_MAX    0.544879   0.706034   0.458794     -0.031562   \n",
       "ranking             -0.015543  -0.013447   0.019807     -0.012289   \n",
       "fee_without_food     0.240955   0.344142   0.957956      0.161167   \n",
       "is_succesful        -0.018938  -0.021483   0.022041     -0.019995   \n",
       "\n",
       "                   amount_of_rankers  delivery_time_MAX   ranking  \\\n",
       "Unnamed: 0                  0.093864           0.544879 -0.015543   \n",
       "countries                   0.096101           0.706034 -0.013447   \n",
       "min_order                   0.149626           0.458794  0.019807   \n",
       "delivery_fee               -0.105565          -0.031562 -0.012289   \n",
       "amount_of_rankers           1.000000           0.111598  0.023922   \n",
       "delivery_time_MAX           0.111598           1.000000 -0.017694   \n",
       "ranking                     0.023922          -0.017694  1.000000   \n",
       "fee_without_food            0.118367           0.447467  0.016157   \n",
       "is_succesful                0.011974          -0.017176  0.774438   \n",
       "\n",
       "                   fee_without_food  is_succesful  \n",
       "Unnamed: 0                 0.240955     -0.018938  \n",
       "countries                  0.344142     -0.021483  \n",
       "min_order                  0.957956      0.022041  \n",
       "delivery_fee               0.161167     -0.019995  \n",
       "amount_of_rankers          0.118367      0.011974  \n",
       "delivery_time_MAX          0.447467     -0.017176  \n",
       "ranking                    0.016157      0.774438  \n",
       "fee_without_food           1.000000      0.016150  \n",
       "is_succesful               0.016150      1.000000  "
      ]
     },
     "execution_count": 369,
     "metadata": {},
     "output_type": "execute_result"
    }
   ],
   "source": [
    "df.corr(method ='pearson')"
   ]
  },
  {
   "cell_type": "markdown",
   "metadata": {},
   "source": [
    "Trying to find any connection between the score of the restaurant and the minimum order, delivery fee, the amount of people who ranked the restaurant and what we call \"fee without food\" which is the money you have to pay without your actual dish. Not very impressive according to the table. most of the values are near 0 except the rating which doesn't count for obvious reasons."
   ]
  },
  {
   "cell_type": "code",
   "execution_count": 370,
   "metadata": {},
   "outputs": [
    {
     "data": {
      "image/png": "[encoded data removed]",
      "text/plain": [
       "<Figure size 1440x360 with 4 Axes>"
      ]
     },
     "metadata": {
      "needs_background": "light"
     },
     "output_type": "display_data"
    }
   ],
   "source": [
    "\n",
    "columns_for_scatter = ['min_order','delivery_fee','amount_of_rankers',\"fee_without_food\"]\n",
    "fig,axes = plt.subplots(1,4,figsize = (20,5))\n",
    "for i in range (4):\n",
    "    axes[i].scatter(df[columns_for_scatter[i]],df['ranking'])    \n",
    "plt.show()"
   ]
  },
  {
   "cell_type": "markdown",
   "metadata": {},
   "source": [
    "Since these graphs doesn't provide us with any unambiguous conclusions, we tried the cross-tabulation score between the binned columns to the is successful column to see if we have a connection. "
   ]
  },
  {
   "cell_type": "code",
   "execution_count": 371,
   "metadata": {},
   "outputs": [
    {
     "name": "stdout",
     "output_type": "stream",
     "text": [
      "is_succesful         False      True\n",
      "min_order_binned                    \n",
      "1                 0.262743  0.737257\n",
      "2                 0.170213  0.829787\n",
      "3                 0.283881  0.716119\n",
      "4                 0.190601  0.809399\n",
      "5                 0.173127  0.826873\n",
      "6                 0.200000  0.800000\n",
      "7                 0.000000  1.000000\n",
      "---------------------\n",
      "is_succesful            False      True\n",
      "delivery_fee_binned                    \n",
      "1                    0.259329  0.740671\n",
      "2                    0.345845  0.654155\n",
      "3                    0.000000  1.000000\n",
      "---------------------\n",
      "is_succesful                 False      True\n",
      "amount_of_rankers_binned                    \n",
      "1                         0.261131  0.738869\n",
      "2                         0.254511  0.745489\n",
      "3                         0.229268  0.770732\n",
      "4                         0.290323  0.709677\n",
      "5                         0.106870  0.893130\n",
      "6                         0.191176  0.808824\n",
      "7                         0.449664  0.550336\n",
      "---------------------\n",
      "is_succesful                 False      True\n",
      "delivery_time_MAX_binned                    \n",
      "1                         0.297872  0.702128\n",
      "2                         0.257446  0.742554\n",
      "3                         0.263285  0.736715\n",
      "4                         0.260521  0.739479\n",
      "5                         0.357466  0.642534\n",
      "---------------------\n"
     ]
    }
   ],
   "source": [
    "for column in [\"min_order_binned\",\"delivery_fee_binned\",\"amount_of_rankers_binned\",\"delivery_time_MAX_binned\"]:\n",
    "    print(cross_tab(df,column,'is_succesful'))\n",
    "    print('---------------------')\n",
    "\n"
   ]
  },
  {
   "cell_type": "markdown",
   "metadata": {},
   "source": [
    "We found some connection between some of the columns. the most relevant ones were the amount of rankers and the min order value.\n",
    "We decided to check the binned columns in a bar plot to see if we can spot the connection in a more pleasant way than numbers."
   ]
  },
  {
   "cell_type": "code",
   "execution_count": 372,
   "metadata": {},
   "outputs": [
    {
     "data": {
      "image/png": "[encoded data removed]",
      "text/plain": [
       "<Figure size 1800x720 with 1 Axes>"
      ]
     },
     "metadata": {
      "needs_background": "light"
     },
     "output_type": "display_data"
    }
   ],
   "source": [
    "ct2 = cross_tab(df,\"amount_of_rankers_binned\",'is_succesful')\n",
    "ct2.plot(kind = 'bar', figsize = (25,10))\n",
    "plt.title('Successful vs unsuccessful resturants',color = 'white')\n",
    "plt.xlabel('amount of rankers divided to bins',color = 'white')\n",
    "plt.ylabel('Relative frequency',color = 'white')\n",
    "plt.show()"
   ]
  },
  {
   "cell_type": "markdown",
   "metadata": {},
   "source": [
    "As expected, we have a slight connection between the two. next, the min order."
   ]
  },
  {
   "cell_type": "code",
   "execution_count": 373,
   "metadata": {},
   "outputs": [
    {
     "data": {
      "image/png": "[encoded data removed]",
      "text/plain": [
       "<Figure size 1800x720 with 1 Axes>"
      ]
     },
     "metadata": {
      "needs_background": "light"
     },
     "output_type": "display_data"
    }
   ],
   "source": [
    "ct2 = cross_tab(df,\"min_order_binned\",'is_succesful')\n",
    "ct2.plot(kind = 'bar', figsize = (25,10))\n",
    "plt.title('Successful vs unsuccessful resturants',color = 'white')\n",
    "plt.xlabel('Min order value devided to bins',color = 'white')\n",
    "plt.ylabel('Relative frequency',color = 'white')\n",
    "plt.show()"
   ]
  },
  {
   "cell_type": "markdown",
   "metadata": {},
   "source": [
    "When it came to the minimum order. we found a stronger connection and a surprising one!\n",
    "The frequency of successful restaurants was higher the bigger the value of the min order required for a delivery."
   ]
  },
  {
   "cell_type": "markdown",
   "metadata": {},
   "source": [
    "In order to validate we have a connection between those columns, we tried to run the chi2 score test on the unnormalized cross tabulation table.\n"
   ]
  },
  {
   "cell_type": "code",
   "execution_count": 374,
   "metadata": {},
   "outputs": [
    {
     "data": {
      "text/plain": [
       "(34.86799034887784,\n",
       " 4.570852504292694e-06,\n",
       " 6,\n",
       " array([[5.51828664e+03, 1.56507134e+04],\n",
       "        [1.22518528e+01, 3.47481472e+01],\n",
       "        [3.25065116e+02, 9.21934884e+02],\n",
       "        [9.98395665e+01, 2.83160434e+02],\n",
       "        [1.00882277e+02, 2.86117723e+02],\n",
       "        [2.73711605e+01, 7.76288395e+01],\n",
       "        [1.30338860e+00, 3.69661140e+00]]))"
      ]
     },
     "execution_count": 374,
     "metadata": {},
     "output_type": "execute_result"
    }
   ],
   "source": [
    "chi2_contingency(pd.crosstab(df[\"min_order_binned\"],df['is_succesful']))"
   ]
  },
  {
   "cell_type": "markdown",
   "metadata": {},
   "source": [
    "We found that since the P value of the chi2 test was less than 0.05, there is a connection between the variables!\n",
    "Next we tried the amount of rankers in the same test."
   ]
  },
  {
   "cell_type": "code",
   "execution_count": 375,
   "metadata": {},
   "outputs": [
    {
     "data": {
      "text/plain": [
       "(48.716035512018266,\n",
       " 8.498118250524326e-09,\n",
       " 6,\n",
       " array([[ 5556.3455854 , 15758.6544146 ],\n",
       "        [  274.49363835,   778.50636165],\n",
       "        [  106.87786488,   303.12213512],\n",
       "        [   56.56706507,   160.43293493],\n",
       "        [   34.14878122,    96.85121878],\n",
       "        [   17.72608491,    50.27391509],\n",
       "        [   38.84098017,   110.15901983]]))"
      ]
     },
     "execution_count": 375,
     "metadata": {},
     "output_type": "execute_result"
    }
   ],
   "source": [
    "chi2_contingency(pd.crosstab(df[\"amount_of_rankers_binned\"],df['is_succesful']))"
   ]
  },
  {
   "cell_type": "markdown",
   "metadata": {},
   "source": [
    "And we also found a connection here! Seems like the P value here is less than 0.05 which means there is a connection between the columns"
   ]
  },
  {
   "cell_type": "markdown",
   "metadata": {},
   "source": [
    "After cleaning the data, displaying what we have in graphs and assuming and establishing connection between columns we moved on to the next step and started to build the ML model that will try and predict the success rate as we defined it in the beginning."
   ]
  },
  {
   "cell_type": "markdown",
   "metadata": {},
   "source": [
    "Since we have a few parameters that we want to take in consideration and the final decision should be a truth or false kind of answer, we decided to use the Decision tree classifier and Random forest classifier. We chose that since the issue we have decided to investigate resembled a lot to the Titanic survivors issue that was displayed in the course."
   ]
  },
  {
   "cell_type": "code",
   "execution_count": 376,
   "metadata": {},
   "outputs": [
    {
     "name": "stdout",
     "output_type": "stream",
     "text": [
      "Accuracy on training data =  0.7444092194327822\n",
      "Accuracy on test data =  0.7369773817683345\n"
     ]
    }
   ],
   "source": [
    "\n",
    "decisionTree = tree.DecisionTreeClassifier()\n",
    "res_predictors = df[[\"countries\",\"amount_of_rankers_binned\",\"delivery_time_MAX_binned\",\"fee_without_food_binned\",\"min_order_binned\"]].values\n",
    "res_labels = df[\"is_succesful\"].values\n",
    "XTrain, XTest, yTrain, yTest = train_test_split(res_predictors, res_labels, random_state=1, test_size=0.5)\n",
    "decisionTree = decisionTree.fit(XTrain, yTrain)\n",
    "y_pred_train = decisionTree.predict(XTrain)\n",
    "print('Accuracy on training data = ',metrics.accuracy_score(y_true = yTrain, y_pred = y_pred_train))\n",
    "y_pred = decisionTree.predict(XTest)\n",
    "print('Accuracy on test data = ', \n",
    "      metrics.accuracy_score(y_true = yTest, y_pred = y_pred))\n",
    "\n"
   ]
  },
  {
   "cell_type": "markdown",
   "metadata": {},
   "source": [
    "Next we tried the Random forest classifier and got around the same results in this model as well."
   ]
  },
  {
   "cell_type": "code",
   "execution_count": 377,
   "metadata": {},
   "outputs": [
    {
     "name": "stdout",
     "output_type": "stream",
     "text": [
      "Accuracy on training data=  0.7444092194327822\n",
      "Accuracy on test data=  0.7379198080877313\n"
     ]
    }
   ],
   "source": [
    "from sklearn.ensemble import RandomForestClassifier\n",
    "\n",
    "forest =  RandomForestClassifier(bootstrap=True, n_estimators=300, random_state=0)\n",
    "\n",
    "trained_forest = forest.fit(XTrain, yTrain) \n",
    "\n",
    "y_pred_train = trained_forest.predict(XTrain)\n",
    "print('Accuracy on training data= ', metrics.accuracy_score(y_true = yTrain, y_pred = y_pred_train))\n",
    "\n",
    "y_pred = trained_forest.predict(XTest)\n",
    "print('Accuracy on test data= ', metrics.accuracy_score(y_true = yTest, y_pred = y_pred))"
   ]
  },
  {
   "cell_type": "markdown",
   "metadata": {},
   "source": [
    "Final Report:"
   ]
  },
  {
   "cell_type": "markdown",
   "metadata": {},
   "source": [
    "After collecting the data, preparing it for the tests, building a machine learning model and applying the model on our data we got to a decent prediction percentage of 74%."
   ]
  },
  {
   "cell_type": "markdown",
   "metadata": {},
   "source": [
    "After discussing on the percentage and figuring out how we can improve the model we decided to leave it at that. We reached to a conclusion that data in real life is different than the data we got in the course. while in the course we got a premade data sets that will probably were designed to give us good prediction percentage, here this is information that was gathered from a dynamic website that keeps on updating and changing on a regular base. This means that the percentage will probably not be similar to what we got in class."
   ]
  },
  {
   "cell_type": "markdown",
   "metadata": {},
   "source": [
    "We also discussed on the matter that a success of a restaurant is determined by a lot of factors that cannot be measured or data we simply couldn't get due to it not being available or run time complexity. Service quality, dish size and quality of products are some of the factors that are either really hard to measure or just couldn't be measured. On the other hand, average dish price is an example of a factor that may be very important but would make our algorithm time complexity increase significally. "
   ]
  },
  {
   "cell_type": "markdown",
   "metadata": {},
   "source": [
    "Even though 74% is not that impressive we were satisfied by the outcome. We faced numerous challenges and we overcame them as a team from facing the denial of access to the just eat site to the EDA and visualization and then the machine learning model. "
   ]
  },
  {
   "cell_type": "markdown",
   "metadata": {},
   "source": [
    "We learned a lot during the project and even were a little surprised from the results. This project definitely helped us understand the steps of a data scientist when facing an issue in this subject."
   ]
  }
 ],
 "metadata": {
  "interpreter": {
   "hash": "369f2c481f4da34e4445cda3fffd2e751bd1c4d706f27375911949ba6bb62e1c"
  },
  "kernelspec": {
   "display_name": "Python 3.10.1 64-bit",
   "language": "python",
   "name": "python3"
  },
  "language_info": {
   "codemirror_mode": {
    "name": "ipython",
    "version": 3
   },
   "file_extension": ".py",
   "mimetype": "text/x-python",
   "name": "python",
   "nbconvert_exporter": "python",
   "pygments_lexer": "ipython3",
   "version": "3.10.1"
  },
  "orig_nbformat": 4
 },
 "nbformat": 4,
 "nbformat_minor": 2
}
